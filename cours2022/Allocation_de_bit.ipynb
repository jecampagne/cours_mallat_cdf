{
  "nbformat": 4,
  "nbformat_minor": 0,
  "metadata": {
    "colab": {
      "provenance": [],
      "authorship_tag": "ABX9TyOaClQ7aG3B9UQwAkCdBaTN",
      "include_colab_link": true
    },
    "kernelspec": {
      "name": "python3",
      "display_name": "Python 3"
    },
    "language_info": {
      "name": "python"
    }
  },
  "cells": [
    {
      "cell_type": "markdown",
      "metadata": {
        "id": "view-in-github",
        "colab_type": "text"
      },
      "source": [
        "<a href=\"https://colab.research.google.com/github/jecampagne/cours_mallat_cdf/blob/main/cours2022/Allocation_de_bit.ipynb\" target=\"_parent\"><img src=\"https://colab.research.google.com/assets/colab-badge.svg\" alt=\"Open In Colab\"/></a>"
      ]
    },
    {
      "cell_type": "code",
      "execution_count": 1,
      "metadata": {
        "id": "eXnqTf2YxJW4"
      },
      "outputs": [],
      "source": [
        "import numpy as np\n",
        "# Matplotlib\n",
        "import matplotlib as mpl\n",
        "import matplotlib.pyplot as plt\n",
        "from matplotlib.pyplot import cm\n",
        "plt.style.use('seaborn-white')\n",
        "mpl.rc('image', cmap='jet')\n",
        "mpl.rcParams['font.size'] = 18"
      ]
    },
    {
      "cell_type": "markdown",
      "source": [
        "# Exemple d'algorithme glouton d'allocations de bits"
      ],
      "metadata": {
        "id": "jA_RyBusxZg7"
      }
    },
    {
      "cell_type": "code",
      "source": [
        "c = np.pi * np.e/6  #1.423289037112261"
      ],
      "metadata": {
        "id": "ECA_V43Txaci"
      },
      "execution_count": 2,
      "outputs": []
    },
    {
      "cell_type": "code",
      "source": [
        "N = 50  # number of channels of Y in the base following a gaussian distrib\n",
        "rng = np.random.default_rng(2022)\n",
        "mu, sigma = 3.,1.\n",
        "Dm = c * rng.lognormal(mu, sigma, N)   # Distostion  of each  gaussian distrib\n",
        "Dm_orig = Dm.copy()"
      ],
      "metadata": {
        "id": "WLDMJpWBxdP5"
      },
      "execution_count": 7,
      "outputs": []
    },
    {
      "cell_type": "code",
      "source": [
        "bits = np.zeros_like(Dm)   # bits array\n",
        "R=2*N  # constraint: total number of bits to allocate"
      ],
      "metadata": {
        "id": "2ZaNdIbfxgBP"
      },
      "execution_count": 8,
      "outputs": []
    },
    {
      "cell_type": "code",
      "source": [
        "# Algorthime glouton\n",
        "while np.sum(bits) < R:         # while there is some bits to allocate \n",
        "    m = np.argmax(Dm)       # select the channel which has the biggest distortion error\n",
        "    bits[m] +=1                 # increase the number of bits to this channel\n",
        "    Dm[m] /= 4.             # decrease the channel distortion\n"
      ],
      "metadata": {
        "id": "aFiRbkStxlmT"
      },
      "execution_count": 9,
      "outputs": []
    },
    {
      "cell_type": "code",
      "source": [
        "# Show the bits allowed for each channel\n",
        "plt.scatter(Dm_orig,bits);\n",
        "plt.xlabel(r\"$D_m$\")\n",
        "plt.ylabel(\"# of bits\");"
      ],
      "metadata": {
        "colab": {
          "base_uri": "https://localhost:8080/",
          "height": 293
        },
        "id": "xgzbfNoFxodz",
        "outputId": "c9e81a66-68fb-44f1-c242-ef566d4174d6"
      },
      "execution_count": 10,
      "outputs": [
        {
          "output_type": "display_data",
          "data": {
            "text/plain": [
              "<Figure size 432x288 with 1 Axes>"
            ],
            "image/png": "[encoded data removed]"
          },
          "metadata": {}
        }
      ]
    },
    {
      "cell_type": "code",
      "source": [
        "# The total distortion from the allocated bits\n",
        "D_algo = np.sum(Dm)\n",
        "# Optimised  total distortion \n",
        "D_optim =  N*(np.product(Dm_orig**(1./N))/(4.**(R/N)))\n",
        "print(fr\"D_optim = {D_optim:.3e}, D_algo = {D_algo:.3e}, eff: {D_optim/D_algo:.3f}\")"
      ],
      "metadata": {
        "colab": {
          "base_uri": "https://localhost:8080/"
        },
        "id": "zN3ZpWl7xq5D",
        "outputId": "96a2e83d-66a5-4eab-a78a-1af93b35bec7"
      },
      "execution_count": 12,
      "outputs": [
        {
          "output_type": "stream",
          "name": "stdout",
          "text": [
            "D_optim = 8.108e+01, D_algo = 8.825e+01, eff: 0.919\n"
          ]
        }
      ]
    },
    {
      "cell_type": "code",
      "source": [],
      "metadata": {
        "id": "C7JwPfYWxyU2"
      },
      "execution_count": null,
      "outputs": []
    }
  ]
}