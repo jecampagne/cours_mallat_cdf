{
 "cells": [
  {
   "cell_type": "code",
   "execution_count": 1,
   "id": "391506a0-62bf-4b10-9876-a9941397f6e7",
   "metadata": {},
   "outputs": [],
   "source": [
    "import numpy as np\n",
    "# Matplotlib\n",
    "import matplotlib as mpl\n",
    "import matplotlib.pyplot as plt\n",
    "from matplotlib.pyplot import cm\n",
    "plt.style.use('seaborn-white')\n",
    "mpl.rc('image', cmap='jet')\n",
    "mpl.rcParams['font.size'] = 18\n"
   ]
  },
  {
   "cell_type": "markdown",
   "id": "c5295bd5-319e-4368-80b5-97e5732df689",
   "metadata": {},
   "source": [
    "# Exemple d'algorithme glouton d'allocations de bits "
   ]
  },
  {
   "cell_type": "code",
   "execution_count": 66,
   "id": "f5cc1255-5bd3-4976-ba08-d49a4b9c3eb0",
   "metadata": {},
   "outputs": [],
   "source": [
    "c = np.pi * np.e/6  #1.423289037112261"
   ]
  },
  {
   "cell_type": "code",
   "execution_count": 145,
   "id": "6ecf9108-2651-4d8b-970c-9f478507d05f",
   "metadata": {},
   "outputs": [],
   "source": [
    "N = 5000  # number of channels of Y in the base following a gaussian distrib\n",
    "rng = np.random.default_rng(2022)\n",
    "mu, sigma = 3.,1.\n",
    "Dm = c * rng.lognormal(mu, sigma, N)   # Distostion  of each  gaussian distrib"
   ]
  },
  {
   "cell_type": "code",
   "execution_count": 146,
   "id": "5bfe9212-b949-412f-97a7-3a74544838eb",
   "metadata": {},
   "outputs": [],
   "source": [
    "Dm_orig = Dm.copy()"
   ]
  },
  {
   "cell_type": "code",
   "execution_count": 147,
   "id": "f6dc1488-2918-4add-844f-546c4da94f93",
   "metadata": {},
   "outputs": [],
   "source": [
    "bits = np.zeros_like(Dm)   # bits array"
   ]
  },
  {
   "cell_type": "code",
   "execution_count": 148,
   "id": "57145828-400b-4727-b125-fdbeba23e3db",
   "metadata": {},
   "outputs": [],
   "source": [
    "R=2*N  # constraint: total number of bits to allocate"
   ]
  },
  {
   "cell_type": "code",
   "execution_count": 149,
   "id": "cd66c40b-e405-4205-b48b-64df75d5795d",
   "metadata": {},
   "outputs": [],
   "source": [
    "# Algorthime glouton\n",
    "while np.sum(bits) < R:         # while there is some bits to allocate \n",
    "    m = np.argmax(Dm)       # select the channel which has the biggest distortion error\n",
    "    bits[m] +=1                 # increase the number of bits to this channel\n",
    "    Dm[m] /= 4.             # decrease the channel distortion"
   ]
  },
  {
   "cell_type": "code",
   "execution_count": 150,
   "id": "39ccaed9-c02d-4061-809f-d46774082df8",
   "metadata": {},
   "outputs": [
    {
     "data": {
      "image/png": "[encoded data removed]",
      "text/plain": [
       "<Figure size 432x288 with 1 Axes>"
      ]
     },
     "metadata": {},
     "output_type": "display_data"
    }
   ],
   "source": [
    "# Show the bits allowed for each channel\n",
    "plt.scatter(Dm_orig,bits);\n",
    "plt.xlabel(r\"$D_m$\")\n",
    "plt.ylabel(\"# of bits\");"
   ]
  },
  {
   "cell_type": "code",
   "execution_count": 151,
   "id": "076d308c-83e2-4a58-845e-2167e823e887",
   "metadata": {},
   "outputs": [],
   "source": [
    "# The total distortion from the allocated bits\n",
    "D_algo = np.sum(Dm)\n",
    "# Optimised  total distortion \n",
    "D_optim =  N*(np.product(Dm_orig**(1./N))/(4.**(R/N)))"
   ]
  },
  {
   "cell_type": "code",
   "execution_count": 152,
   "id": "ac31726f-55f9-4c68-a5cc-16d3260184c7",
   "metadata": {},
   "outputs": [
    {
     "name": "stdout",
     "output_type": "stream",
     "text": [
      "D_optim = 9.090e+03, D_algo = 9.820e+03, eff: 0.926\n"
     ]
    }
   ],
   "source": [
    "print(fr\"D_optim = {D_optim:.3e}, D_algo = {D_algo:.3e}, eff: {D_optim/D_algo:.3f}\")"
   ]
  },
  {
   "cell_type": "code",
   "execution_count": null,
   "id": "31d9bc56-bb43-49ea-8238-8ef31d16898f",
   "metadata": {},
   "outputs": [],
   "source": []
  },
  {
   "cell_type": "code",
   "execution_count": null,
   "id": "950b2739-0b4e-4ef6-b2fd-1104b1dd0aea",
   "metadata": {},
   "outputs": [],
   "source": []
  }
 ],
 "metadata": {
  "jupytext": {
   "text_representation": {
    "extension": ".py",
    "format_name": "light",
    "format_version": "1.5",
    "jupytext_version": "1.11.3"
   }
  },
  "kernelspec": {
   "display_name": "mallat",
   "language": "python",
   "name": "mallat"
  },
  "language_info": {
   "codemirror_mode": {
    "name": "ipython",
    "version": 3
   },
   "file_extension": ".py",
   "mimetype": "text/x-python",
   "name": "python",
   "nbconvert_exporter": "python",
   "pygments_lexer": "ipython3",
   "version": "3.8.12"
  }
 },
 "nbformat": 4,
 "nbformat_minor": 5
}
