{
  "nbformat": 4,
  "nbformat_minor": 0,
  "metadata": {
    "colab": {
      "provenance": [],
      "authorship_tag": "ABX9TyOGOGfmECGo+7407kaDrkPR",
      "include_colab_link": true
    },
    "kernelspec": {
      "name": "python3",
      "display_name": "Python 3"
    },
    "language_info": {
      "name": "python"
    }
  },
  "cells": [
    {
      "cell_type": "markdown",
      "metadata": {
        "id": "view-in-github",
        "colab_type": "text"
      },
      "source": [
        "<a href=\"https://colab.research.google.com/github/jecampagne/cours_mallat_cdf/blob/main/cours2022/MLE_Fisher_Info_1D.ipynb\" target=\"_parent\"><img src=\"https://colab.research.google.com/assets/colab-badge.svg\" alt=\"Open In Colab\"/></a>"
      ]
    },
    {
      "cell_type": "code",
      "source": [
        "! pip -q install jaxopt"
      ],
      "metadata": {
        "colab": {
          "base_uri": "https://localhost:8080/"
        },
        "id": "thJ9ZT1Y5jlr",
        "outputId": "1dc0eac8-4764-4fc3-e592-3df0477b5e83"
      },
      "execution_count": 2,
      "outputs": [
        {
          "output_type": "stream",
          "name": "stdout",
          "text": [
            "\u001b[?25l     \u001b[90m━━━━━━━━━━━━━━━━━━━━━━━━━━━━━━━━━━━━━━━━\u001b[0m \u001b[32m0.0/142.2 KB\u001b[0m \u001b[31m?\u001b[0m eta \u001b[36m-:--:--\u001b[0m\r\u001b[2K     \u001b[90m━━━━━━━━━━━━━━━━━━━━━━━━━━━━━━━━━━━━━━━\u001b[0m \u001b[32m142.2/142.2 KB\u001b[0m \u001b[31m5.5 MB/s\u001b[0m eta \u001b[36m0:00:00\u001b[0m\n",
            "\u001b[?25h"
          ]
        }
      ]
    },
    {
      "cell_type": "code",
      "execution_count": 3,
      "metadata": {
        "id": "Lmd7lHyD5Yzx"
      },
      "outputs": [],
      "source": [
        "import time\n",
        "import functools\n",
        "from functools import partial\n",
        "# JAX library : une nouvelle venue dans le domaine \n",
        "#       l'auto-differentiation\n",
        "#       la compilation Just-In-Time \n",
        "#       l'optilisation XLA du code compile pour le device CPU/GPU/TPU\n",
        "\n",
        "import jax\n",
        "import jax.numpy as jnp\n",
        "from jax import random\n",
        "from jax import grad, jit, vmap, value_and_grad\n",
        "from jax.example_libraries import optimizers\n",
        "\n",
        "from jax.config import config\n",
        "config.update(\"jax_enable_x64\", True)\n",
        "\n",
        "# Optimization library based on JAX (eg standard Gradient Desceant)\n",
        "import jaxopt\n",
        "\n",
        "# Numpy \n",
        "import numpy as np\n",
        "\n",
        "# Matplotlib\n",
        "import matplotlib as mpl\n",
        "import matplotlib.pyplot as plt\n",
        "from matplotlib.pyplot import cm\n",
        "#plt.style.use('seaborn-paper')\n",
        "#mpl.rc('image', cmap='jet')\n",
        "mpl.rcParams['font.size'] = 18\n",
        "from matplotlib.patches import Ellipse"
      ]
    },
    {
      "cell_type": "code",
      "source": [
        "def sci_notation(num, decimal_digits=1, precision=None, exponent=None):\n",
        "    \"\"\"\n",
        "    Returns a string representation of the scientific\n",
        "    notation of the given number formatted for use with\n",
        "    LaTeX or Mathtext, with specified number of significant\n",
        "    decimal digits and precision (number of decimal digits\n",
        "    to show). The exponent to be used can also be specified\n",
        "    explicitly.\n",
        "    \"\"\"\n",
        "    if exponent is None:\n",
        "        exponent = int(np.floor(np.log10(abs(num))))\n",
        "    coeff = round(num / float(10**exponent), decimal_digits)\n",
        "    if precision is None:\n",
        "        precision = decimal_digits\n",
        "\n",
        "    return r\"${0:.{2}f}\\cdot10^{{{1:d}}}$\".format(coeff, exponent, precision)"
      ],
      "metadata": {
        "id": "mp-AK96W-V43"
      },
      "execution_count": 26,
      "outputs": []
    },
    {
      "cell_type": "markdown",
      "source": [
        "# The MLE is optimal wrt Fisher Information"
      ],
      "metadata": {
        "id": "e4PanoFw5vPN"
      }
    },
    {
      "cell_type": "code",
      "source": [
        "param_true = 1.0  # The true parameter that we want to get from MLE\n",
        "sample_size = 1_000\n",
        "sigma_e = 0.1      # sdt error on y \n",
        "key = jax.random.PRNGKey(1) # key for random generator\n"
      ],
      "metadata": {
        "id": "ZgDb9fDp5fg5"
      },
      "execution_count": 36,
      "outputs": []
    },
    {
      "cell_type": "code",
      "source": [
        "# The model  y = mu_\\theta(x) = theta * x^3\n",
        "@jit\n",
        "def model(param, X):\n",
        "    return param * X**3\n"
      ],
      "metadata": {
        "id": "UbQmmkwj5xjj"
      },
      "execution_count": 37,
      "outputs": []
    },
    {
      "cell_type": "code",
      "source": [
        "# Generation of dataset samples\n",
        "@partial(jit, static_argnums=1)\n",
        "def gen_spl(key, p):\n",
        "    key, key1,key2 = jax.random.split(key,3)\n",
        "    xi = jax.random.uniform(key1, shape=(sample_size,), minval=-1,maxval=1) # input X\n",
        "    noise = sigma_e * jax.random.normal(key2, shape=(sample_size,))\n",
        "    yi = model(p,xi)  + noise  # add white noise to the target y\n",
        "    return key,xi,yi\n"
      ],
      "metadata": {
        "id": "Q85oWD_y50X0"
      },
      "execution_count": 54,
      "outputs": []
    },
    {
      "cell_type": "code",
      "source": [
        "_,x0,y0 = gen_spl(key, param_true)\n",
        "plt.hist2d(x0,y0,bins=50);\n"
      ],
      "metadata": {
        "colab": {
          "base_uri": "https://localhost:8080/",
          "height": 273
        },
        "id": "tXom3X5z52Kj",
        "outputId": "0adc9aaf-2a58-46ef-e96c-d9252e03c19d"
      },
      "execution_count": 55,
      "outputs": [
        {
          "output_type": "display_data",
          "data": {
            "text/plain": [
              "<Figure size 432x288 with 1 Axes>"
            ],
            "image/png": "[encoded data removed]"
          },
          "metadata": {
            "needs_background": "light"
          }
        }
      ]
    },
    {
      "cell_type": "code",
      "source": [
        "Cov_inv = jnp.eye(sample_size)/sigma_e**2  # Sigma^-1"
      ],
      "metadata": {
        "id": "qS1Om9KR85YP"
      },
      "execution_count": 40,
      "outputs": []
    },
    {
      "cell_type": "code",
      "source": [
        "def loss(p, X, y):\n",
        "    \"\"\" MSE loss \"\"\"\n",
        "    residuals = model(p,X) - y\n",
        "    return jnp.mean(residuals ** 2)\n"
      ],
      "metadata": {
        "id": "UTmStqj053mM"
      },
      "execution_count": 133,
      "outputs": []
    },
    {
      "cell_type": "code",
      "source": [
        "# Setup the GD minimizer\n",
        "gd = jaxopt.GradientDescent(fun=loss, tol=1e-6)\n"
      ],
      "metadata": {
        "id": "Jipc6idy56nu"
      },
      "execution_count": 134,
      "outputs": []
    },
    {
      "cell_type": "code",
      "source": [
        "@partial(jit, static_argnums=1)\n",
        "def func(seed,p):\n",
        "    key = jax.random.PRNGKey(seed)\n",
        "    key,X,y = gen_spl(key, p)   # new dataset\n",
        "    key, key_ini = jax.random.split(key)\n",
        "    init_params = jax.random.uniform(key_ini, minval=-10, maxval=10) # initialize the paramter\n",
        "    return gd.run(init_params, X=X, y=y).params   # do the GD minimization\n"
      ],
      "metadata": {
        "id": "clDnbUVm58F7"
      },
      "execution_count": 138,
      "outputs": []
    },
    {
      "cell_type": "code",
      "source": [
        "# Parallelization on seed (not on p_true)\n",
        "parallel_func = jax.vmap(func, in_axes=(0, None))\n"
      ],
      "metadata": {
        "id": "dzsoioSx594F"
      },
      "execution_count": 139,
      "outputs": []
    },
    {
      "cell_type": "code",
      "source": [
        "# Get K independant GD minimisation\n",
        "K = 10_000\n",
        "seeds = jnp.arange(0,K)\n",
        "res = np.array(parallel_func(seeds,param_true))\n"
      ],
      "metadata": {
        "id": "aPSOh4tA5_gt"
      },
      "execution_count": 140,
      "outputs": []
    },
    {
      "cell_type": "markdown",
      "source": [
        "# Compute Fisher Information matrix\n",
        "\n",
        "$$\n",
        "F_{\\alpha\\beta} = \\sum_i \\frac{\\partial y_i}{\\partial \\theta_\\alpha}^T \\Sigma^{-1}\\frac{\\partial y_i}{\\partial \\theta_\\beta}\n",
        "$$"
      ],
      "metadata": {
        "id": "-jQM8Dtv6Fsv"
      }
    },
    {
      "cell_type": "code",
      "source": [
        "jacobian = jax.jit(jax.jacfwd(lambda p: model(p, X=x0).flatten()))   # dy/dtheta\n",
        "\n",
        "j = jacobian(param_true)[:,jnp.newaxis]\n"
      ],
      "metadata": {
        "id": "Sl-S83p_6BT9"
      },
      "execution_count": 117,
      "outputs": []
    },
    {
      "cell_type": "code",
      "source": [
        "F1 = j.T @ Cov_inv @ j # jnp.einsum('ia,ij,jb',j,Cov_inv,j)"
      ],
      "metadata": {
        "id": "2aKVgOwCA3QF"
      },
      "execution_count": 119,
      "outputs": []
    },
    {
      "cell_type": "code",
      "source": [
        "# Here inversion of the Fisher Info is simple, overwise jnp.linalg.inv(Fisher)\n",
        "Fisher_inv = 1/Fisher[0][0]\n",
        "std_set = np.sqrt(Fisher_inv)\n"
      ],
      "metadata": {
        "id": "VzpWcFMZ6JOh"
      },
      "execution_count": 141,
      "outputs": []
    },
    {
      "cell_type": "code",
      "source": [
        "def gauss(x, scale):\n",
        "    return jax.scipy.stats.norm.pdf(x,scale=scale)"
      ],
      "metadata": {
        "id": "hhd3hz0F6Ko_"
      },
      "execution_count": 143,
      "outputs": []
    },
    {
      "cell_type": "code",
      "source": [
        "plt.hist(res-param_true, bins=100, density=True, label=\"MLE distrib.\");\n",
        "\n",
        "x_axis = np.arange(-5*std_set, 5*std_set, std_set/100)\n",
        "plt.plot(x_axis,gauss(x_axis, std_set),lw=3, label=fr\"Fisher \")\n",
        "plt.title(fr\"MLE distrib is N(0,$\\sigma$={sci_notation(std_set)})\")\n",
        "plt.xlabel(r\"$\\hat{\\theta}_{MLE} - \\theta^\\ast$\")\n",
        "plt.xlim([-5*std_set, 5*std_set])\n",
        "plt.legend();\n"
      ],
      "metadata": {
        "colab": {
          "base_uri": "https://localhost:8080/",
          "height": 333
        },
        "id": "WWKOArXG-Zg3",
        "outputId": "6ae059f5-038d-449a-a163-d41f81711854"
      },
      "execution_count": 144,
      "outputs": [
        {
          "output_type": "display_data",
          "data": {
            "text/plain": [
              "<Figure size 432x288 with 1 Axes>"
            ],
            "image/png": "[encoded data removed]"
          },
          "metadata": {
            "needs_background": "light"
          }
        }
      ]
    },
    {
      "cell_type": "code",
      "source": [],
      "metadata": {
        "id": "HF0IxDBw-cpI"
      },
      "execution_count": null,
      "outputs": []
    }
  ]
}