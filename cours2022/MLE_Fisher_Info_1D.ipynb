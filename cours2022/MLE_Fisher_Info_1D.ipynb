{
 "cells": [
  {
   "cell_type": "code",
   "execution_count": 228,
   "id": "e285e235-fe5f-442b-bf45-3db56aead5b5",
   "metadata": {},
   "outputs": [],
   "source": [
    "import time\n",
    "import functools\n",
    "from functools import partial\n",
    "# JAX library : une nouvelle venue dans le domaine \n",
    "#       l'auto-differentiation\n",
    "#       la compilation Just-In-Time \n",
    "#       l'optilisation XLA du code compile pour le device CPU/GPU/TPU\n",
    "\n",
    "import jax\n",
    "import jax.numpy as jnp\n",
    "from jax import random\n",
    "from jax import grad, jit, vmap, value_and_grad\n",
    "from jax.example_libraries import optimizers\n",
    "\n",
    "from jax.config import config\n",
    "config.update(\"jax_enable_x64\", True)\n",
    "\n",
    "# Optimization library based on JAX (eg standard Gradient Desceant)\n",
    "import jaxopt\n",
    "\n",
    "# Numpy \n",
    "import numpy as np\n",
    "\n",
    "# Matplotlib\n",
    "import matplotlib as mpl\n",
    "import matplotlib.pyplot as plt\n",
    "from matplotlib.pyplot import cm\n",
    "#plt.style.use('seaborn-paper')\n",
    "#mpl.rc('image', cmap='jet')\n",
    "mpl.rcParams['font.size'] = 18\n",
    "from matplotlib.patches import Ellipse"
   ]
  },
  {
   "cell_type": "markdown",
   "id": "75cc1766-c94b-46b5-9095-4fcc2f2679ea",
   "metadata": {},
   "source": [
    "# The MLE is optimal wrt Fisher Information"
   ]
  },
  {
   "cell_type": "code",
   "execution_count": 235,
   "id": "7e6b8c89-2152-47fe-a7bf-8eb96d803dfd",
   "metadata": {},
   "outputs": [],
   "source": [
    "param_true = 1.0  # The true parameter that we want to get from MLE\n",
    "sample_size = 1_000\n",
    "sigma_e = 0.1      # sdt error on y \n",
    "key = jax.random.PRNGKey(42) # key for random generator\n"
   ]
  },
  {
   "cell_type": "code",
   "execution_count": 236,
   "id": "d1ce7e07-5e73-447b-9793-593adf6ad27d",
   "metadata": {},
   "outputs": [],
   "source": [
    "# The model  y = mu_\\theta(x)\n",
    "@jit\n",
    "def model(param, X):\n",
    "    return param * X**3"
   ]
  },
  {
   "cell_type": "code",
   "execution_count": 237,
   "id": "75cb10d4-db81-40ba-be3d-fe4c016acc69",
   "metadata": {},
   "outputs": [],
   "source": [
    "# Generation of dataset samples\n",
    "@partial(jit, static_argnums=1)\n",
    "def gen_spl(key, param_true):\n",
    "    key, key1,key2 = jax.random.split(key,3)\n",
    "    xi = jax.random.uniform(key1, shape=(sample_size,), minval=-1,maxval=1) # input X\n",
    "    noise = sigma_e * jax.random.normal(key2, shape=(sample_size,))\n",
    "    yi = model(param_true,xi)  + noise  # add white noise to the target y\n",
    "    return key,xi,yi"
   ]
  },
  {
   "cell_type": "code",
   "execution_count": 238,
   "id": "4ac18a01-9eff-4c81-8738-81e8b5663f41",
   "metadata": {},
   "outputs": [
    {
     "data": {
      "image/png": "[encoded data removed]",
      "text/plain": [
       "<Figure size 432x288 with 1 Axes>"
      ]
     },
     "metadata": {
      "needs_background": "light"
     },
     "output_type": "display_data"
    }
   ],
   "source": [
    "_,x0,y0 = gen_spl(key, param_true)\n",
    "plt.hist2d(x0,y0,bins=50);"
   ]
  },
  {
   "cell_type": "code",
   "execution_count": 239,
   "id": "5608d223-a6c6-4908-9208-4cb43f41afab",
   "metadata": {},
   "outputs": [],
   "source": [
    "def loss(params, X, y):\n",
    "    \"\"\" MSE loss \"\"\"\n",
    "    residuals = model(params,X) - y\n",
    "    return jnp.mean(residuals ** 2)"
   ]
  },
  {
   "cell_type": "code",
   "execution_count": 299,
   "id": "c42b0125-bdb0-4460-9066-20e77c1bc016",
   "metadata": {},
   "outputs": [],
   "source": [
    "# Setup the GD minimizer\n",
    "gd = jaxopt.GradientDescent(fun=loss, maxiter=500)"
   ]
  },
  {
   "cell_type": "code",
   "execution_count": 300,
   "id": "3fe1d43c-c4e3-43fb-9c9c-52f2c5021166",
   "metadata": {},
   "outputs": [],
   "source": [
    "@partial(jit, static_argnums=1)\n",
    "def func(seed,p_true):\n",
    "    key = jax.random.PRNGKey(seed)\n",
    "    key,X,y = gen_spl(key, p_true)   # new dataset\n",
    "    key, key_ini = jax.random.split(key)\n",
    "    init_params = jax.random.uniform(key_ini, minval=-10, maxval=10) # initialize the paramter\n",
    "    return gd.run(init_params, X=X, y=y).params   # do the GD minimization"
   ]
  },
  {
   "cell_type": "code",
   "execution_count": 301,
   "id": "649c543a-19ec-4af3-9cc1-4a356711cbb7",
   "metadata": {},
   "outputs": [],
   "source": [
    "# Parallelization on seed (not on p_true)\n",
    "parallel_func = jax.vmap(func, in_axes=(0, None))"
   ]
  },
  {
   "cell_type": "code",
   "execution_count": 302,
   "id": "5d98959a-8532-43ee-b506-de69a9ff55b3",
   "metadata": {},
   "outputs": [],
   "source": [
    "# Get K independant GD minimisation\n",
    "K = 5_000\n",
    "seeds = jnp.arange(0,K)\n",
    "res = np.array(parallel_func(seeds,param_true))"
   ]
  },
  {
   "cell_type": "code",
   "execution_count": 303,
   "id": "3cbdeb22-dd0f-414e-aac8-65aa54c45c1e",
   "metadata": {},
   "outputs": [],
   "source": [
    "# Compute Fisher Information matrix"
   ]
  },
  {
   "cell_type": "code",
   "execution_count": 304,
   "id": "d2a59761-b1b1-4ecd-91bd-66b5c0bf3ea7",
   "metadata": {},
   "outputs": [],
   "source": [
    "jacobian = jax.jit(jax.jacfwd(lambda p: model(p, X=x0).flatten()))"
   ]
  },
  {
   "cell_type": "code",
   "execution_count": 305,
   "id": "024065b8-a0e0-40b3-9f78-033fe2f65aab",
   "metadata": {},
   "outputs": [],
   "source": [
    "j = jacobian(param_true)[:,jnp.newaxis]"
   ]
  },
  {
   "cell_type": "code",
   "execution_count": 306,
   "id": "10321d90-11e3-40cc-894a-9b14fb525148",
   "metadata": {},
   "outputs": [],
   "source": [
    "# Here inversion of the Fisher Info is simple, overwise jnp.linalg.inv(Fisher)\n",
    "Fisher_inv = 1/Fisher[0][0]\n",
    "std_set = np.sqrt(Fisher_inv)"
   ]
  },
  {
   "cell_type": "code",
   "execution_count": 307,
   "id": "af53b05e-e825-4187-b791-b11619eb95fc",
   "metadata": {},
   "outputs": [],
   "source": [
    "def sci_notation(num, decimal_digits=1, precision=None, exponent=None):\n",
    "    \"\"\"\n",
    "    Returns a string representation of the scientific\n",
    "    notation of the given number formatted for use with\n",
    "    LaTeX or Mathtext, with specified number of significant\n",
    "    decimal digits and precision (number of decimal digits\n",
    "    to show). The exponent to be used can also be specified\n",
    "    explicitly.\n",
    "    \"\"\"\n",
    "    if exponent is None:\n",
    "        exponent = int(np.floor(np.log10(abs(num))))\n",
    "    coeff = round(num / float(10**exponent), decimal_digits)\n",
    "    if precision is None:\n",
    "        precision = decimal_digits\n",
    "\n",
    "    return r\"${0:.{2}f}\\cdot10^{{{1:d}}}$\".format(coeff, exponent, precision)\n"
   ]
  },
  {
   "cell_type": "code",
   "execution_count": 308,
   "id": "51ed73c6-df4d-48fc-b6da-190d3bd6e2b6",
   "metadata": {},
   "outputs": [],
   "source": [
    "def gauss(x, scale):\n",
    "    return jax.scipy.stats.norm.pdf(x,scale=scale)"
   ]
  },
  {
   "cell_type": "code",
   "execution_count": 309,
   "id": "85ef7d63-7c71-4b96-9ba4-0029e7386239",
   "metadata": {},
   "outputs": [
    {
     "data": {
      "image/png": "[encoded data removed]",
      "text/plain": [
       "<Figure size 432x288 with 1 Axes>"
      ]
     },
     "metadata": {
      "needs_background": "light"
     },
     "output_type": "display_data"
    }
   ],
   "source": [
    "plt.hist(res-param_true, bins=50, density=True, label=\"MLE distrib.\");\n",
    "\n",
    "x_axis = np.arange(-3*std_set, 3*std_set, std_set/100)\n",
    "plt.plot(x_axis,gauss(x_axis, std_set),lw=3, label=fr\"Fisher \")\n",
    "plt.title(fr\"MLE distrib is N(0,$\\sigma$={sci_notation(std_set)})\")\n",
    "plt.xlabel(r\"$\\hat{\\theta}_{MLE} - \\theta^\\ast$\")\n",
    "plt.legend();"
   ]
  },
  {
   "cell_type": "code",
   "execution_count": null,
   "id": "eeebadf8-06ec-406d-b834-37863f53dd22",
   "metadata": {},
   "outputs": [],
   "source": []
  }
 ],
 "metadata": {
  "jupytext": {
   "text_representation": {
    "extension": ".py",
    "format_name": "light",
    "format_version": "1.5",
    "jupytext_version": "1.11.3"
   }
  },
  "kernelspec": {
   "display_name": "mallat",
   "language": "python",
   "name": "mallat"
  },
  "language_info": {
   "codemirror_mode": {
    "name": "ipython",
    "version": 3
   },
   "file_extension": ".py",
   "mimetype": "text/x-python",
   "name": "python",
   "nbconvert_exporter": "python",
   "pygments_lexer": "ipython3",
   "version": "3.8.12"
  }
 },
 "nbformat": 4,
 "nbformat_minor": 5
}
