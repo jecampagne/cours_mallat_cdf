{
 "cells": [
  {
   "cell_type": "code",
   "execution_count": 131,
   "id": "88617910-8e87-4602-9e8d-1c9c0f60a317",
   "metadata": {},
   "outputs": [],
   "source": [
    "import numpy as np\n",
    "from collections import Counter"
   ]
  },
  {
   "cell_type": "markdown",
   "id": "9a36f64c-e7e2-4940-b721-828f016b307b",
   "metadata": {},
   "source": [
    "# Simple implementation of Huffman code"
   ]
  },
  {
   "cell_type": "code",
   "execution_count": 100,
   "id": "cdb3c978-39cb-43fe-a1a5-557a9c3be1e9",
   "metadata": {},
   "outputs": [],
   "source": [
    "class NodeTree(object):\n",
    "    def __init__(self, left=None, right=None):\n",
    "        self.left = left\n",
    "        self.right = right\n",
    "\n",
    "    def children(self):\n",
    "        return self.left, self.right\n",
    "\n",
    "    def __str__(self):\n",
    "        return f'({self.left}, {self.right})'\n",
    "\n",
    "\n",
    "def huffman_code_tree(node, binString=''):\n",
    "    '''\n",
    "    Function to find Huffman Code\n",
    "    '''\n",
    "    if type(node) is str:\n",
    "        return {node: binString}\n",
    "    (l, r) = node.children()\n",
    "    d = dict()    \n",
    "    d.update(huffman_code_tree(l, binString + '0'))\n",
    "    d.update(huffman_code_tree(r, binString + '1'))\n",
    "    \n",
    "    return d\n",
    "\n",
    "\n",
    "def make_tree(nodes):\n",
    "    '''\n",
    "    Function to make tree\n",
    "    :param nodes: Nodes\n",
    "    :return: Root of the tree\n",
    "    '''\n",
    "    while len(nodes) > 1:\n",
    "        (key1, c1) = nodes[-1]\n",
    "        (key2, c2) = nodes[-2]\n",
    "        nodes = nodes[:-2]\n",
    "        node = NodeTree(key1, key2)\n",
    "        nodes.append((node, c1 + c2))\n",
    "        nodes = sorted(nodes, key=lambda x: x[1], reverse=True)\n",
    "        \n",
    "    \n",
    "    return nodes[0][0]\n"
   ]
  },
  {
   "cell_type": "code",
   "execution_count": 205,
   "id": "77135c7d-9e8a-4ac0-a014-29a0d4f811a4",
   "metadata": {},
   "outputs": [],
   "source": [
    "string = 'blablablaaaaabcde'\n",
    "freq = dict(Counter(string)) \n",
    "freq = sorted(freq.items(), key=lambda x: x[1], reverse=True)"
   ]
  },
  {
   "cell_type": "code",
   "execution_count": 206,
   "id": "30ecc4ac-f12a-4e22-8977-6be675635728",
   "metadata": {},
   "outputs": [
    {
     "data": {
      "text/plain": [
       "[('a', 7), ('b', 4), ('l', 3), ('c', 1), ('d', 1), ('e', 1)]"
      ]
     },
     "execution_count": 206,
     "metadata": {},
     "output_type": "execute_result"
    }
   ],
   "source": [
    "# letter occurance\n",
    "freq"
   ]
  },
  {
   "cell_type": "code",
   "execution_count": 207,
   "id": "cdd1caa1-6424-4297-95f2-54318a9f41b9",
   "metadata": {},
   "outputs": [],
   "source": [
    "node = make_tree(freq)"
   ]
  },
  {
   "cell_type": "code",
   "execution_count": 209,
   "id": "eb8dc2d9-a3d7-4686-b627-bf6ffc352a1c",
   "metadata": {},
   "outputs": [],
   "source": [
    "# get the code table\n",
    "code_table = huffman_code_tree(node)"
   ]
  },
  {
   "cell_type": "code",
   "execution_count": 210,
   "id": "ba831898-0ae5-4c34-b8bf-1d60c636b95b",
   "metadata": {},
   "outputs": [
    {
     "data": {
      "text/plain": [
       "{'a': '0', 'b': '10', 'c': '1100', 'e': '11010', 'd': '11011', 'l': '111'}"
      ]
     },
     "execution_count": 210,
     "metadata": {},
     "output_type": "execute_result"
    }
   ],
   "source": [
    "code_table"
   ]
  },
  {
   "cell_type": "code",
   "execution_count": 216,
   "id": "05e2bdac-f273-4180-b7a8-b7a22515875b",
   "metadata": {},
   "outputs": [],
   "source": [
    "freq = dict(freq)"
   ]
  },
  {
   "cell_type": "code",
   "execution_count": 217,
   "id": "68a60d5b-b443-4621-8991-bb4ce9fb5844",
   "metadata": {},
   "outputs": [],
   "source": [
    "# compute Mean length and Entropy\n",
    "R,H = np.sum([[freq[key]/len(string) * len(code_table[key]), -freq[key]/len(string) * np.log2(freq[key]/len(string))]  for key in freq], \n",
    "             axis=0)"
   ]
  },
  {
   "cell_type": "code",
   "execution_count": 218,
   "id": "3282fce9-0989-4574-8e77-1699bd4c273c",
   "metadata": {},
   "outputs": [
    {
     "name": "stdout",
     "output_type": "stream",
     "text": [
      "Mean length of code: 2.24,  Code entropy: 2.18, efficiency:0.976\n"
     ]
    }
   ],
   "source": [
    "print(f\"Mean length of code: {R:.3},  Code entropy: {H:.3}, efficiency:{H/R:.3}\")"
   ]
  },
  {
   "cell_type": "code",
   "execution_count": 256,
   "id": "56fbf47b-f38f-49a7-84af-5803994064e3",
   "metadata": {},
   "outputs": [],
   "source": [
    "# Perform the coding of the string\n",
    "coded_string = ''.join([code_table[s] for s in string])"
   ]
  },
  {
   "cell_type": "code",
   "execution_count": 257,
   "id": "6f06ff51-abf5-4d63-ae00-4762cebbc56e",
   "metadata": {},
   "outputs": [
    {
     "data": {
      "text/plain": [
       "'10111010111010111000001011001101111010'"
      ]
     },
     "execution_count": 257,
     "metadata": {},
     "output_type": "execute_result"
    }
   ],
   "source": [
    "coded_string"
   ]
  },
  {
   "cell_type": "code",
   "execution_count": 259,
   "id": "7879004c-043f-4954-8861-f122885d78a2",
   "metadata": {},
   "outputs": [],
   "source": [
    "# Reverse the code table and sort form smallest code (more frequent) to largest (less frequent)\n",
    "decode_table = dict(sorted([(value, key) for (key, value) in code_table.items()], \n",
    "                      key=lambda x: len(x[0]), reverse=False))"
   ]
  },
  {
   "cell_type": "code",
   "execution_count": 260,
   "id": "24c7eb46-ce81-438e-8649-09f0928d717c",
   "metadata": {},
   "outputs": [
    {
     "data": {
      "text/plain": [
       "{'0': 'a', '10': 'b', '111': 'l', '1100': 'c', '11010': 'e', '11011': 'd'}"
      ]
     },
     "execution_count": 260,
     "metadata": {},
     "output_type": "execute_result"
    }
   ],
   "source": [
    "decode_table"
   ]
  },
  {
   "cell_type": "code",
   "execution_count": 261,
   "id": "b5aa83fb-4c30-47a2-97a1-d371a32589be",
   "metadata": {},
   "outputs": [],
   "source": [
    "# simple decoding\n",
    "def decode(s, decode_table):\n",
    "    decoded_string = ''\n",
    "    while len(s)>0:\n",
    "        for c in decode_table :\n",
    "            if s.startswith(c):\n",
    "                decoded_string += decode_table[c]\n",
    "                s= s[len(c):]\n",
    "    return decoded_string"
   ]
  },
  {
   "cell_type": "code",
   "execution_count": 258,
   "id": "96d1d385-d8f3-4a82-8d03-6ae92a09b0a2",
   "metadata": {},
   "outputs": [
    {
     "data": {
      "text/plain": [
       "'blablablaaaaabcde'"
      ]
     },
     "execution_count": 258,
     "metadata": {},
     "output_type": "execute_result"
    }
   ],
   "source": [
    "decode(coded_string, decode_table)"
   ]
  },
  {
   "cell_type": "code",
   "execution_count": null,
   "id": "65f936bd-c2f6-4fae-b81d-116e2ffc7f36",
   "metadata": {},
   "outputs": [],
   "source": []
  }
 ],
 "metadata": {
  "jupytext": {
   "text_representation": {
    "extension": ".py",
    "format_name": "light",
    "format_version": "1.5",
    "jupytext_version": "1.11.3"
   }
  },
  "kernelspec": {
   "display_name": "mallat",
   "language": "python",
   "name": "mallat"
  },
  "language_info": {
   "codemirror_mode": {
    "name": "ipython",
    "version": 3
   },
   "file_extension": ".py",
   "mimetype": "text/x-python",
   "name": "python",
   "nbconvert_exporter": "python",
   "pygments_lexer": "ipython3",
   "version": "3.8.12"
  }
 },
 "nbformat": 4,
 "nbformat_minor": 5
}
