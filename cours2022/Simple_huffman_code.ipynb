{
  "nbformat": 4,
  "nbformat_minor": 0,
  "metadata": {
    "colab": {
      "provenance": [],
      "authorship_tag": "ABX9TyN16PtLUqJbeYzA4e9SCUcm",
      "include_colab_link": true
    },
    "kernelspec": {
      "name": "python3",
      "display_name": "Python 3"
    },
    "language_info": {
      "name": "python"
    }
  },
  "cells": [
    {
      "cell_type": "markdown",
      "metadata": {
        "id": "view-in-github",
        "colab_type": "text"
      },
      "source": [
        "<a href=\"https://colab.research.google.com/github/jecampagne/cours_mallat_cdf/blob/main/cours2022/Simple_huffman_code.ipynb\" target=\"_parent\"><img src=\"https://colab.research.google.com/assets/colab-badge.svg\" alt=\"Open In Colab\"/></a>"
      ]
    },
    {
      "cell_type": "code",
      "execution_count": 1,
      "metadata": {
        "id": "xZgC-nzMGC8u"
      },
      "outputs": [],
      "source": [
        "import numpy as np\n",
        "from collections import Counter"
      ]
    },
    {
      "cell_type": "markdown",
      "source": [
        "# Simple implementation of Huffman code"
      ],
      "metadata": {
        "id": "hKC7KPi2GICF"
      }
    },
    {
      "cell_type": "code",
      "source": [
        "class NodeTree(object):\n",
        "    def __init__(self, left=None, right=None):\n",
        "        self.left = left\n",
        "        self.right = right\n",
        "\n",
        "    def children(self):\n",
        "        return self.left, self.right\n",
        "\n",
        "    def __str__(self):\n",
        "        return f'({self.left}, {self.right})'\n",
        "\n",
        "\n",
        "def huffman_code_tree(node, binString=''):\n",
        "    '''\n",
        "    Function to find Huffman Code\n",
        "    '''\n",
        "    if type(node) is str:\n",
        "        return {node: binString}\n",
        "    (l, r) = node.children()\n",
        "    d = dict()    \n",
        "    d.update(huffman_code_tree(l, binString + '0'))\n",
        "    d.update(huffman_code_tree(r, binString + '1'))\n",
        "    \n",
        "    return d\n",
        "\n",
        "\n",
        "def make_tree(nodes):\n",
        "    '''\n",
        "    Function to make tree\n",
        "    :param nodes: Nodes\n",
        "    :return: Root of the tree\n",
        "    '''\n",
        "    while len(nodes) > 1:\n",
        "        (key1, c1) = nodes[-1]\n",
        "        (key2, c2) = nodes[-2]\n",
        "        nodes = nodes[:-2]\n",
        "        node = NodeTree(key1, key2)\n",
        "        nodes.append((node, c1 + c2))\n",
        "        nodes = sorted(nodes, key=lambda x: x[1], reverse=True)\n",
        "        \n",
        "    \n",
        "    return nodes[0][0]"
      ],
      "metadata": {
        "id": "OYQEpwyeGFLL"
      },
      "execution_count": 2,
      "outputs": []
    },
    {
      "cell_type": "code",
      "source": [
        "string = 'blablablaaaaabcde'\n",
        "freq = dict(Counter(string)) \n",
        "freq = sorted(freq.items(), key=lambda x: x[1], reverse=True)\n"
      ],
      "metadata": {
        "id": "4G1NL8EjGPNu"
      },
      "execution_count": 3,
      "outputs": []
    },
    {
      "cell_type": "code",
      "source": [
        "# letter occurance\n",
        "freq"
      ],
      "metadata": {
        "colab": {
          "base_uri": "https://localhost:8080/"
        },
        "id": "ZUb_lXumGTjF",
        "outputId": "ae7a5e92-68a9-4d52-a932-d585b1cdce7c"
      },
      "execution_count": 4,
      "outputs": [
        {
          "output_type": "execute_result",
          "data": {
            "text/plain": [
              "[('a', 7), ('b', 4), ('l', 3), ('c', 1), ('d', 1), ('e', 1)]"
            ]
          },
          "metadata": {},
          "execution_count": 4
        }
      ]
    },
    {
      "cell_type": "code",
      "source": [
        "node = make_tree(freq)"
      ],
      "metadata": {
        "id": "BHOFW8OTGVyt"
      },
      "execution_count": 5,
      "outputs": []
    },
    {
      "cell_type": "code",
      "source": [
        "# get the code table\n",
        "code_table = huffman_code_tree(node)\n",
        "code_table\n",
        "\n"
      ],
      "metadata": {
        "colab": {
          "base_uri": "https://localhost:8080/"
        },
        "id": "sNO3rzUEGYaG",
        "outputId": "6f4b3ee7-322a-4392-f30f-395fe10b6589"
      },
      "execution_count": 7,
      "outputs": [
        {
          "output_type": "execute_result",
          "data": {
            "text/plain": [
              "{'a': '0', 'b': '10', 'c': '1100', 'e': '11010', 'd': '11011', 'l': '111'}"
            ]
          },
          "metadata": {},
          "execution_count": 7
        }
      ]
    },
    {
      "cell_type": "code",
      "source": [
        "freq = dict(freq)"
      ],
      "metadata": {
        "id": "bAZpyk7QGbtv"
      },
      "execution_count": 8,
      "outputs": []
    },
    {
      "cell_type": "code",
      "source": [
        "# compute Mean length and Entropy\n",
        "R,H = np.sum([[freq[key]/len(string) * len(code_table[key]), -freq[key]/len(string) * np.log2(freq[key]/len(string))]  for key in freq], \n",
        "             axis=0)\n"
      ],
      "metadata": {
        "id": "grhr5cBkGhEY"
      },
      "execution_count": 9,
      "outputs": []
    },
    {
      "cell_type": "code",
      "source": [
        "print(f\"Mean length of code: {R:.3},  Code entropy: {H:.3}, efficiency:{H/R:.3}\")"
      ],
      "metadata": {
        "colab": {
          "base_uri": "https://localhost:8080/"
        },
        "id": "CpXz7mwUGjRe",
        "outputId": "e3360a44-f979-456c-c9f4-e2e22a7e0b41"
      },
      "execution_count": 10,
      "outputs": [
        {
          "output_type": "stream",
          "name": "stdout",
          "text": [
            "Mean length of code: 2.24,  Code entropy: 2.18, efficiency:0.976\n"
          ]
        }
      ]
    },
    {
      "cell_type": "code",
      "source": [
        "# Perform the coding of the string\n",
        "coded_string = ''.join([code_table[s] for s in string])\n",
        "coded_string"
      ],
      "metadata": {
        "colab": {
          "base_uri": "https://localhost:8080/",
          "height": 36
        },
        "id": "PVc8FnIVGlUH",
        "outputId": "aaf757c9-12ae-43c8-86cb-a36128376c9f"
      },
      "execution_count": 12,
      "outputs": [
        {
          "output_type": "execute_result",
          "data": {
            "text/plain": [
              "'10111010111010111000001011001101111010'"
            ],
            "application/vnd.google.colaboratory.intrinsic+json": {
              "type": "string"
            }
          },
          "metadata": {},
          "execution_count": 12
        }
      ]
    },
    {
      "cell_type": "code",
      "source": [
        "# Reverse the code table and sort form smallest code (more frequent) to largest (less frequent)\n",
        "decode_table = dict(sorted([(value, key) for (key, value) in code_table.items()], \n",
        "                      key=lambda x: len(x[0]), reverse=False))\n",
        "\n",
        "decode_table\n"
      ],
      "metadata": {
        "colab": {
          "base_uri": "https://localhost:8080/"
        },
        "id": "sjJc80UXGoxp",
        "outputId": "5c0cc4ff-359d-4e5b-fbc1-dd2aee1ce742"
      },
      "execution_count": 13,
      "outputs": [
        {
          "output_type": "execute_result",
          "data": {
            "text/plain": [
              "{'0': 'a', '10': 'b', '111': 'l', '1100': 'c', '11010': 'e', '11011': 'd'}"
            ]
          },
          "metadata": {},
          "execution_count": 13
        }
      ]
    },
    {
      "cell_type": "code",
      "source": [
        "# simple decoding\n",
        "def decode(s, decode_table):\n",
        "    decoded_string = ''\n",
        "    while len(s)>0:\n",
        "        for c in decode_table :\n",
        "            if s.startswith(c):\n",
        "                decoded_string += decode_table[c]\n",
        "                s= s[len(c):]\n",
        "    return decoded_string\n"
      ],
      "metadata": {
        "id": "TlC2-HOhGuha"
      },
      "execution_count": 14,
      "outputs": []
    },
    {
      "cell_type": "code",
      "source": [
        "decode(coded_string, decode_table)\n"
      ],
      "metadata": {
        "colab": {
          "base_uri": "https://localhost:8080/",
          "height": 36
        },
        "id": "3m5CnpF0Gyuh",
        "outputId": "093954a7-624b-42b4-e8be-6f0e7ee23c8e"
      },
      "execution_count": 15,
      "outputs": [
        {
          "output_type": "execute_result",
          "data": {
            "text/plain": [
              "'blablablaaaaabcde'"
            ],
            "application/vnd.google.colaboratory.intrinsic+json": {
              "type": "string"
            }
          },
          "metadata": {},
          "execution_count": 15
        }
      ]
    },
    {
      "cell_type": "code",
      "source": [],
      "metadata": {
        "id": "gWUgLzVoG17q"
      },
      "execution_count": null,
      "outputs": []
    }
  ]
}